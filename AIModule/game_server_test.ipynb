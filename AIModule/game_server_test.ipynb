{
 "cells": [
  {
   "cell_type": "code",
   "execution_count": 369,
   "metadata": {},
   "outputs": [
    {
     "name": "stdout",
     "output_type": "stream",
     "text": [
      "{'game_status': 0}\n"
     ]
    }
   ],
   "source": [
    "import requests\n",
    "\n",
    "# The API endpoint\n",
    "url_post = \"http://127.0.0.1:8080/commands\"\n",
    "\n",
    "# Define new data to create\n",
    "data = {\n",
    "    \"p1_actions\": [\"a\", \"b\", \"c\", \"d\", \"e\"],\n",
    "    \"p2_actions\": [\"c\", \"d\", \"e\", \"a\", \"b\"],\n",
    "}\n",
    "\n",
    "\n",
    "# A POST request to tthe API\n",
    "post_response = requests.post(url_post, json=data)\n",
    "\n",
    "# Print the response\n",
    "post_response_json = post_response.json()\n",
    "print(post_response_json)"
   ]
  },
  {
   "cell_type": "code",
   "execution_count": 358,
   "metadata": {},
   "outputs": [
    {
     "name": "stdout",
     "output_type": "stream",
     "text": [
      "{'p1_stats': {'hp': 400, 'energy': 0, 'player_number': True}, 'p2_stats': {'hp': 400, 'energy': 0, 'player_number': False}, 'game_state': 'running'}\n"
     ]
    }
   ],
   "source": [
    "\n",
    "import requests\n",
    "\n",
    "# The API endpoint\n",
    "url_post = \"http://127.0.0.1:8888/set-command\"\n",
    "\n",
    "# Define new data to create\n",
    "data = {\n",
    "    \"p1_actions\": [\"K\", \"J\", \"L\", \"I\", \"Y\"],\n",
    "    \"p2_actions\": [\"K\", \"T\", \"L\", \"T\", \"I\"]\n",
    "}\n",
    "\n",
    "\n",
    "# A POST request to tthe API\n",
    "post_response = requests.post(url_post, json=data)\n",
    "\n",
    "# Print the response\n",
    "post_response_json = post_response.json()\n",
    "print(post_response_json)\n"
   ]
  }
 ],
 "metadata": {
  "kernelspec": {
   "display_name": "games",
   "language": "python",
   "name": "python3"
  },
  "language_info": {
   "codemirror_mode": {
    "name": "ipython",
    "version": 3
   },
   "file_extension": ".py",
   "mimetype": "text/x-python",
   "name": "python",
   "nbconvert_exporter": "python",
   "pygments_lexer": "ipython3",
   "version": "3.10.0"
  },
  "orig_nbformat": 4
 },
 "nbformat": 4,
 "nbformat_minor": 2
}
