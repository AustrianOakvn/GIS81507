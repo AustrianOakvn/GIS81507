{
 "cells": [
  {
   "cell_type": "code",
   "execution_count": 1,
   "metadata": {},
   "outputs": [
    {
     "name": "stdout",
     "output_type": "stream",
     "text": [
      "None\n"
     ]
    }
   ],
   "source": [
    "import requests\n",
    "\n",
    "# The API endpoint\n",
    "url_post = \"http://127.0.0.1:8080/commands\"\n",
    "\n",
    "# Define new data to create\n",
    "data = {\n",
    "    \"p1_actions\": [\"a\", \"b\"],\n",
    "    \"p2_actions\": [\"c\", \"d\"]\n",
    "}\n",
    "\n",
    "\n",
    "# A POST request to tthe API\n",
    "post_response = requests.post(url_post, json=data)\n",
    "\n",
    "# Print the response\n",
    "post_response_json = post_response.json()\n",
    "print(post_response_json)"
   ]
  }
 ],
 "metadata": {
  "kernelspec": {
   "display_name": "games",
   "language": "python",
   "name": "python3"
  },
  "language_info": {
   "codemirror_mode": {
    "name": "ipython",
    "version": 3
   },
   "file_extension": ".py",
   "mimetype": "text/x-python",
   "name": "python",
   "nbconvert_exporter": "python",
   "pygments_lexer": "ipython3",
   "version": "3.10.0"
  },
  "orig_nbformat": 4
 },
 "nbformat": 4,
 "nbformat_minor": 2
}
