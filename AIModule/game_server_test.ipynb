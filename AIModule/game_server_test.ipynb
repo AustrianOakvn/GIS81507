{
 "cells": [
  {
   "cell_type": "code",

   "execution_count": 20,

   "metadata": {},
   "outputs": [
    {
     "name": "stdout",
     "output_type": "stream",
     "text": [

      "{'player_1': ['I', 'J', 'Y', 'L', 'K'], 'player_2': ['I', 'K', 'L', 'Y', 'U']}\n",
      "{'p1_stats': {'hp': 400, 'energy': 0, 'player_number': True}, 'p2_stats': {'hp': 400, 'energy': 0, 'player_number': False}, 'game_state': 'running'}\n",
      "{'player_1': ['I', 'Y', 'J', 'U', 'T'], 'player_2': ['Y', 'L', 'K', 'I', 'J']}\n",
      "{'p1_stats': {'hp': 400, 'energy': 0, 'player_number': True}, 'p2_stats': {'hp': 400, 'energy': 0, 'player_number': False}, 'game_state': 'running'}\n",
      "{'player_1': ['T', 'I', 'Y', 'K', 'L'], 'player_2': ['L', 'J', 'T', 'K', 'U']}\n",
      "{'p1_stats': {'hp': 400, 'energy': 0, 'player_number': True}, 'p2_stats': {'hp': 400, 'energy': 0, 'player_number': False}, 'game_state': 'finished'}\n",
      "{'player_1': ['Y', 'T', 'K', 'J', 'I'], 'player_2': ['T', 'L', 'K', 'I', 'Y']}\n",
      "{'p1_stats': {'hp': 400, 'energy': 0, 'player_number': True}, 'p2_stats': {'hp': 400, 'energy': 0, 'player_number': False}, 'game_state': 'finished'}\n",
      "{'player_1': ['Y', 'I', 'T', 'L', 'U'], 'player_2': ['T', 'U', 'K', 'L', 'Y']}\n",
      "{'p1_stats': {'hp': 400, 'energy': 0, 'player_number': True}, 'p2_stats': {'hp': 400, 'energy': 0, 'player_number': False}, 'game_state': 'finished'}\n",
      "{'player_1': ['K', 'U', 'I', 'J', 'T'], 'player_2': ['K', 'U', 'T', 'I', 'Y']}\n",
      "{'p1_stats': {'hp': 400, 'energy': 0, 'player_number': True}, 'p2_stats': {'hp': 400, 'energy': 0, 'player_number': False}, 'game_state': 'finished'}\n",
      "{'player_1': ['Y', 'U', 'J', 'T', 'L'], 'player_2': ['K', 'Y', 'I', 'T', 'U']}\n",
      "{'p1_stats': {'hp': 400, 'energy': 0, 'player_number': True}, 'p2_stats': {'hp': 400, 'energy': 0, 'player_number': False}, 'game_state': 'finished'}\n",
      "{'player_1': ['L', 'Y', 'U', 'J', 'I'], 'player_2': ['J', 'U', 'Y', 'K', 'T']}\n",
      "{'p1_stats': {'hp': 400, 'energy': 0, 'player_number': True}, 'p2_stats': {'hp': 400, 'energy': 0, 'player_number': False}, 'game_state': 'finished'}\n",
      "{'player_1': ['Y', 'L', 'K', 'J', 'U'], 'player_2': ['K', 'Y', 'I', 'J', 'L']}\n",
      "{'p1_stats': {'hp': 400, 'energy': 0, 'player_number': True}, 'p2_stats': {'hp': 400, 'energy': 0, 'player_number': False}, 'game_state': 'finished'}\n",
      "{'player_1': ['I', 'Y', 'L', 'U', 'K'], 'player_2': ['T', 'J', 'I', 'U', 'K']}\n",
      "{'p1_stats': {'hp': 400, 'energy': 0, 'player_number': True}, 'p2_stats': {'hp': 400, 'energy': 0, 'player_number': False}, 'game_state': 'finished'}\n",
      "{'player_1': ['J', 'L', 'T', 'K', 'Y'], 'player_2': ['I', 'K', 'U', 'T', 'L']}\n",
      "{'p1_stats': {'hp': 400, 'energy': 0, 'player_number': True}, 'p2_stats': {'hp': 400, 'energy': 0, 'player_number': False}, 'game_state': 'finished'}\n",
      "{'player_1': ['T', 'Y', 'U', 'K', 'J'], 'player_2': ['L', 'T', 'J', 'I', 'U']}\n",
      "{'p1_stats': {'hp': 400, 'energy': 0, 'player_number': True}, 'p2_stats': {'hp': 400, 'energy': 0, 'player_number': False}, 'game_state': 'finished'}\n",
      "{'player_1': ['K', 'I', 'Y', 'T', 'J'], 'player_2': ['Y', 'I', 'L', 'J', 'U']}\n",
      "{'p1_stats': {'hp': 400, 'energy': 0, 'player_number': True}, 'p2_stats': {'hp': 400, 'energy': 0, 'player_number': False}, 'game_state': 'finished'}\n",
      "{'player_1': ['T', 'L', 'U', 'I', 'K'], 'player_2': ['L', 'U', 'Y', 'I', 'T']}\n",
      "{'p1_stats': {'hp': 400, 'energy': 0, 'player_number': True}, 'p2_stats': {'hp': 400, 'energy': 0, 'player_number': False}, 'game_state': 'finished'}\n",
      "{'player_1': ['Y', 'U', 'K', 'L', 'J'], 'player_2': ['J', 'K', 'T', 'U', 'Y']}\n",
      "{'p1_stats': {'hp': 400, 'energy': 0, 'player_number': True}, 'p2_stats': {'hp': 400, 'energy': 0, 'player_number': False}, 'game_state': 'finished'}\n",
      "{'player_1': ['J', 'T', 'Y', 'I', 'U'], 'player_2': ['Y', 'T', 'U', 'K', 'I']}\n",
      "{'p1_stats': {'hp': 400, 'energy': 0, 'player_number': True}, 'p2_stats': {'hp': 400, 'energy': 0, 'player_number': False}, 'game_state': 'finished'}\n",
      "{'player_1': ['K', 'U', 'T', 'Y', 'I'], 'player_2': ['Y', 'K', 'I', 'T', 'J']}\n",
      "{'p1_stats': {'hp': 400, 'energy': 0, 'player_number': True}, 'p2_stats': {'hp': 400, 'energy': 0, 'player_number': False}, 'game_state': 'finished'}\n",
      "{'player_1': ['T', 'Y', 'U', 'K', 'L'], 'player_2': ['Y', 'J', 'L', 'K', 'T']}\n",
      "{'p1_stats': {'hp': 400, 'energy': 0, 'player_number': True}, 'p2_stats': {'hp': 400, 'energy': 0, 'player_number': False}, 'game_state': 'finished'}\n",
      "{'player_1': ['I', 'K', 'U', 'T', 'L'], 'player_2': ['J', 'Y', 'T', 'K', 'U']}\n",
      "{'p1_stats': {'hp': 400, 'energy': 0, 'player_number': True}, 'p2_stats': {'hp': 400, 'energy': 0, 'player_number': False}, 'game_state': 'finished'}\n",
      "{'player_1': ['J', 'U', 'L', 'T', 'K'], 'player_2': ['U', 'L', 'T', 'Y', 'J']}\n",
      "{'p1_stats': {'hp': 400, 'energy': 0, 'player_number': True}, 'p2_stats': {'hp': 400, 'energy': 0, 'player_number': False}, 'game_state': 'finished'}\n",
      "{'player_1': ['I', 'T', 'L', 'Y', 'K'], 'player_2': ['L', 'U', 'K', 'T', 'I']}\n",
      "{'p1_stats': {'hp': 400, 'energy': 0, 'player_number': True}, 'p2_stats': {'hp': 400, 'energy': 0, 'player_number': False}, 'game_state': 'finished'}\n",
      "{'player_1': ['I', 'Y', 'L', 'U', 'K'], 'player_2': ['K', 'U', 'T', 'L', 'Y']}\n",
      "{'p1_stats': {'hp': 400, 'energy': 0, 'player_number': True}, 'p2_stats': {'hp': 400, 'energy': 0, 'player_number': False}, 'game_state': 'finished'}\n",
      "{'player_1': ['I', 'U', 'Y', 'K', 'T'], 'player_2': ['U', 'J', 'K', 'L', 'I']}\n",
      "{'p1_stats': {'hp': 400, 'energy': 0, 'player_number': True}, 'p2_stats': {'hp': 400, 'energy': 0, 'player_number': False}, 'game_state': 'finished'}\n",
      "{'player_1': ['J', 'L', 'I', 'T', 'K'], 'player_2': ['Y', 'T', 'U', 'L', 'I']}\n",
      "{'p1_stats': {'hp': 400, 'energy': 0, 'player_number': True}, 'p2_stats': {'hp': 400, 'energy': 0, 'player_number': False}, 'game_state': 'finished'}\n",
      "{'player_1': ['Y', 'I', 'J', 'T', 'K'], 'player_2': ['L', 'T', 'K', 'Y', 'I']}\n",
      "{'p1_stats': {'hp': 400, 'energy': 0, 'player_number': True}, 'p2_stats': {'hp': 400, 'energy': 0, 'player_number': False}, 'game_state': 'finished'}\n",
      "{'player_1': ['I', 'K', 'Y', 'U', 'T'], 'player_2': ['K', 'U', 'T', 'L', 'J']}\n",
      "{'p1_stats': {'hp': 400, 'energy': 0, 'player_number': True}, 'p2_stats': {'hp': 400, 'energy': 0, 'player_number': False}, 'game_state': 'finished'}\n",
      "{'player_1': ['U', 'J', 'K', 'T', 'L'], 'player_2': ['Y', 'I', 'K', 'T', 'L']}\n",
      "{'p1_stats': {'hp': 400, 'energy': 0, 'player_number': True}, 'p2_stats': {'hp': 400, 'energy': 0, 'player_number': False}, 'game_state': 'finished'}\n",
      "{'player_1': ['J', 'U', 'I', 'T', 'L'], 'player_2': ['J', 'T', 'L', 'Y', 'I']}\n",
      "{'p1_stats': {'hp': 400, 'energy': 0, 'player_number': True}, 'p2_stats': {'hp': 400, 'energy': 0, 'player_number': False}, 'game_state': 'finished'}\n",
      "{'player_1': ['I', 'L', 'T', 'U', 'Y'], 'player_2': ['Y', 'J', 'U', 'L', 'K']}\n",
      "{'p1_stats': {'hp': 400, 'energy': 0, 'player_number': True}, 'p2_stats': {'hp': 400, 'energy': 0, 'player_number': False}, 'game_state': 'finished'}\n",
      "{'player_1': ['Y', 'L', 'I', 'J', 'T'], 'player_2': ['I', 'U', 'L', 'J', 'Y']}\n",
      "{'p1_stats': {'hp': 400, 'energy': 0, 'player_number': True}, 'p2_stats': {'hp': 400, 'energy': 0, 'player_number': False}, 'game_state': 'finished'}\n",
      "{'player_1': ['U', 'K', 'I', 'T', 'Y'], 'player_2': ['U', 'L', 'I', 'K', 'J']}\n",
      "{'p1_stats': {'hp': 400, 'energy': 0, 'player_number': True}, 'p2_stats': {'hp': 400, 'energy': 0, 'player_number': False}, 'game_state': 'finished'}\n",
      "{'player_1': ['Y', 'L', 'T', 'U', 'J'], 'player_2': ['J', 'L', 'Y', 'I', 'T']}\n",
      "{'p1_stats': {'hp': 400, 'energy': 0, 'player_number': True}, 'p2_stats': {'hp': 400, 'energy': 0, 'player_number': False}, 'game_state': 'finished'}\n"
     ]
    },
    {
     "ename": "KeyboardInterrupt",
     "evalue": "",
     "output_type": "error",
     "traceback": [
      "\u001b[0;31m---------------------------------------------------------------------------\u001b[0m",
      "\u001b[0;31mKeyboardInterrupt\u001b[0m                         Traceback (most recent call last)",
      "Cell \u001b[0;32mIn[20], line 11\u001b[0m\n\u001b[1;32m      9\u001b[0m ALL_KEYS \u001b[39m=\u001b[39m MOVEMENT_KEYS \u001b[39m+\u001b[39m ATTACK_KEYS\n\u001b[1;32m     10\u001b[0m \u001b[39mwhile\u001b[39;00m \u001b[39mTrue\u001b[39;00m:\n\u001b[0;32m---> 11\u001b[0m     time\u001b[39m.\u001b[39;49msleep(\u001b[39m1\u001b[39;49m)\n\u001b[1;32m     12\u001b[0m     p1_actions \u001b[39m=\u001b[39m random\u001b[39m.\u001b[39msample(ALL_KEYS, \u001b[39m5\u001b[39m)\n\u001b[1;32m     13\u001b[0m     p2_actions \u001b[39m=\u001b[39m random\u001b[39m.\u001b[39msample(ALL_KEYS, \u001b[39m5\u001b[39m)\n",
      "\u001b[0;31mKeyboardInterrupt\u001b[0m: "

     ]
    }
   ],
   "source": [

    "\n",
    "import requests\n",
    "from action_mapping import *\n",
    "import random\n",
    "import time\n",

    "\n",
    "# The API endpoint\n",
    "url_post = \"http://127.0.0.1:8080/commands\"\n",
    "\n",

    "ALL_KEYS = MOVEMENT_KEYS + ATTACK_KEYS\n",
    "while True:\n",
    "    time.sleep(1)\n",
    "    p1_actions = random.sample(ALL_KEYS, 5)\n",
    "    p2_actions = random.sample(ALL_KEYS, 5)\n",
    "    data = {\n",
    "        \"player_1\": p1_actions,\n",
    "        \"player_2\": p2_actions\n",
    "    }\n",
    "    print(data)\n",
    "    post_response = requests.post(url_post, json=data)\n",
    "    post_response_json = post_response.json()\n",
    "    print(post_response_json)\n",

    "\n",
    "# A POST request to tthe API\n",
    "post_response = requests.post(url_post, json=data)\n",
    "\n",
    "# Print the response\n",
    "post_response_json = post_response.json()\n",
    "print(post_response_json)"
   ]
  },
  {
   "cell_type": "code",

   "execution_count": 5,
   "metadata": {},
   "outputs": [
    {
     "name": "stdout",
     "output_type": "stream",
     "text": [
      "{'p1_stats': {'hp': 400, 'energy': 0, 'player_number': True}, 'p2_stats': {'hp': 400, 'energy': 0, 'player_number': False}, 'game_state': 'running'}\n",
      "{'p1_stats': {'hp': 400, 'energy': 0, 'player_number': True}, 'p2_stats': {'hp': 400, 'energy': 0, 'player_number': False}, 'game_state': 'running'}\n",
      "{'p1_stats': {'hp': 400, 'energy': 0, 'player_number': True}, 'p2_stats': {'hp': 400, 'energy': 0, 'player_number': False}, 'game_state': 'running'}\n",
      "{'p1_stats': {'hp': 400, 'energy': 0, 'player_number': True}, 'p2_stats': {'hp': 400, 'energy': 0, 'player_number': False}, 'game_state': 'running'}\n",
      "{'p1_stats': {'hp': 400, 'energy': 0, 'player_number': True}, 'p2_stats': {'hp': 400, 'energy': 0, 'player_number': False}, 'game_state': 'running'}\n",
      "{'p1_stats': {'hp': 400, 'energy': 0, 'player_number': True}, 'p2_stats': {'hp': 400, 'energy': 0, 'player_number': False}, 'game_state': 'running'}\n",
      "{'p1_stats': {'hp': 395, 'energy': 5, 'player_number': True}, 'p2_stats': {'hp': 400, 'energy': 2, 'player_number': False}, 'game_state': 'running'}\n",
      "{'p1_stats': {'hp': 395, 'energy': 2, 'player_number': True}, 'p2_stats': {'hp': 390, 'energy': 12, 'player_number': False}, 'game_state': 'running'}\n",
      "{'p1_stats': {'hp': 395, 'energy': 2, 'player_number': True}, 'p2_stats': {'hp': 390, 'energy': 12, 'player_number': False}, 'game_state': 'running'}\n",
      "{'p1_stats': {'hp': 395, 'energy': 2, 'player_number': True}, 'p2_stats': {'hp': 390, 'energy': 12, 'player_number': False}, 'game_state': 'running'}\n",
      "{'p1_stats': {'hp': 395, 'energy': 2, 'player_number': True}, 'p2_stats': {'hp': 390, 'energy': 12, 'player_number': False}, 'game_state': 'running'}\n",
      "{'p1_stats': {'hp': 395, 'energy': 4, 'player_number': True}, 'p2_stats': {'hp': 385, 'energy': 17, 'player_number': False}, 'game_state': 'running'}\n",
      "{'p1_stats': {'hp': 395, 'energy': 0, 'player_number': True}, 'p2_stats': {'hp': 385, 'energy': 0, 'player_number': False}, 'game_state': 'finished'}\n",
      "{'p1_stats': {'hp': 400, 'energy': 0, 'player_number': True}, 'p2_stats': {'hp': 400, 'energy': 0, 'player_number': False}, 'game_state': 'running'}\n",
      "{'p1_stats': {'hp': 400, 'energy': 0, 'player_number': True}, 'p2_stats': {'hp': 400, 'energy': 0, 'player_number': False}, 'game_state': 'running'}\n",
      "{'p1_stats': {'hp': 400, 'energy': 0, 'player_number': True}, 'p2_stats': {'hp': 400, 'energy': 0, 'player_number': False}, 'game_state': 'running'}\n",
      "{'p1_stats': {'hp': 400, 'energy': 0, 'player_number': True}, 'p2_stats': {'hp': 400, 'energy': 0, 'player_number': False}, 'game_state': 'running'}\n",
      "{'p1_stats': {'hp': 400, 'energy': 0, 'player_number': True}, 'p2_stats': {'hp': 400, 'energy': 0, 'player_number': False}, 'game_state': 'running'}\n",
      "{'p1_stats': {'hp': 400, 'energy': 0, 'player_number': True}, 'p2_stats': {'hp': 400, 'energy': 0, 'player_number': False}, 'game_state': 'running'}\n",
      "{'p1_stats': {'hp': 400, 'energy': 0, 'player_number': True}, 'p2_stats': {'hp': 400, 'energy': 0, 'player_number': False}, 'game_state': 'running'}\n",
      "{'p1_stats': {'hp': 400, 'energy': 0, 'player_number': True}, 'p2_stats': {'hp': 400, 'energy': 0, 'player_number': False}, 'game_state': 'running'}\n",
      "{'p1_stats': {'hp': 400, 'energy': 0, 'player_number': True}, 'p2_stats': {'hp': 400, 'energy': 0, 'player_number': False}, 'game_state': 'running'}\n",
      "{'p1_stats': {'hp': 400, 'energy': 0, 'player_number': True}, 'p2_stats': {'hp': 400, 'energy': 0, 'player_number': False}, 'game_state': 'running'}\n",
      "{'p1_stats': {'hp': 400, 'energy': 0, 'player_number': True}, 'p2_stats': {'hp': 400, 'energy': 0, 'player_number': False}, 'game_state': 'running'}\n",
      "{'p1_stats': {'hp': 400, 'energy': 0, 'player_number': True}, 'p2_stats': {'hp': 400, 'energy': 0, 'player_number': False}, 'game_state': 'finished'}\n",
      "{'p1_stats': {'hp': 400, 'energy': 0, 'player_number': True}, 'p2_stats': {'hp': 400, 'energy': 0, 'player_number': False}, 'game_state': 'running'}\n",
      "{'p1_stats': {'hp': 400, 'energy': 0, 'player_number': True}, 'p2_stats': {'hp': 400, 'energy': 0, 'player_number': False}, 'game_state': 'running'}\n",
      "{'p1_stats': {'hp': 400, 'energy': 0, 'player_number': True}, 'p2_stats': {'hp': 400, 'energy': 0, 'player_number': False}, 'game_state': 'running'}\n",
      "{'p1_stats': {'hp': 400, 'energy': 0, 'player_number': True}, 'p2_stats': {'hp': 400, 'energy': 0, 'player_number': False}, 'game_state': 'running'}\n",
      "{'p1_stats': {'hp': 400, 'energy': 0, 'player_number': True}, 'p2_stats': {'hp': 400, 'energy': 0, 'player_number': False}, 'game_state': 'running'}\n",
      "{'p1_stats': {'hp': 400, 'energy': 0, 'player_number': True}, 'p2_stats': {'hp': 400, 'energy': 0, 'player_number': False}, 'game_state': 'running'}\n",
      "{'p1_stats': {'hp': 400, 'energy': 0, 'player_number': True}, 'p2_stats': {'hp': 400, 'energy': 0, 'player_number': False}, 'game_state': 'running'}\n",
      "{'p1_stats': {'hp': 400, 'energy': 0, 'player_number': True}, 'p2_stats': {'hp': 400, 'energy': 0, 'player_number': False}, 'game_state': 'running'}\n",
      "{'p1_stats': {'hp': 400, 'energy': 0, 'player_number': True}, 'p2_stats': {'hp': 400, 'energy': 0, 'player_number': False}, 'game_state': 'running'}\n",
      "{'p1_stats': {'hp': 400, 'energy': 0, 'player_number': True}, 'p2_stats': {'hp': 400, 'energy': 0, 'player_number': False}, 'game_state': 'running'}\n",
      "{'p1_stats': {'hp': 400, 'energy': 0, 'player_number': True}, 'p2_stats': {'hp': 400, 'energy': 0, 'player_number': False}, 'game_state': 'running'}\n",
      "{'p1_stats': {'hp': 400, 'energy': 0, 'player_number': True}, 'p2_stats': {'hp': 400, 'energy': 0, 'player_number': False}, 'game_state': 'running'}\n",
      "{'p1_stats': {'hp': 400, 'energy': 0, 'player_number': True}, 'p2_stats': {'hp': 400, 'energy': 0, 'player_number': False}, 'game_state': 'finished'}\n",
      "{'p1_stats': {'hp': 400, 'energy': 0, 'player_number': True}, 'p2_stats': {'hp': 400, 'energy': 0, 'player_number': False}, 'game_state': 'running'}\n",
      "{'p1_stats': {'hp': 400, 'energy': 0, 'player_number': True}, 'p2_stats': {'hp': 400, 'energy': 0, 'player_number': False}, 'game_state': 'running'}\n",
      "{'p1_stats': {'hp': 400, 'energy': 0, 'player_number': True}, 'p2_stats': {'hp': 400, 'energy': 0, 'player_number': False}, 'game_state': 'running'}\n"
     ]
    },
    {
     "ename": "KeyboardInterrupt",
     "evalue": "",
     "output_type": "error",
     "traceback": [
      "\u001b[0;31m---------------------------------------------------------------------------\u001b[0m",
      "\u001b[0;31mKeyboardInterrupt\u001b[0m                         Traceback (most recent call last)",
      "Cell \u001b[0;32mIn[5], line 11\u001b[0m\n\u001b[1;32m      9\u001b[0m ALL_KEYS \u001b[39m=\u001b[39m MOVEMENT_KEYS \u001b[39m+\u001b[39m ATTACK_KEYS\n\u001b[1;32m     10\u001b[0m \u001b[39mwhile\u001b[39;00m \u001b[39mTrue\u001b[39;00m:\n\u001b[0;32m---> 11\u001b[0m     time\u001b[39m.\u001b[39;49msleep(\u001b[39m5\u001b[39;49m)\n\u001b[1;32m     12\u001b[0m     p1_actions \u001b[39m=\u001b[39m random\u001b[39m.\u001b[39msample(ALL_KEYS, \u001b[39m5\u001b[39m)\n\u001b[1;32m     13\u001b[0m     p2_actions \u001b[39m=\u001b[39m random\u001b[39m.\u001b[39msample(ALL_KEYS, \u001b[39m5\u001b[39m)\n",
      "\u001b[0;31mKeyboardInterrupt\u001b[0m: "

     ]
    }
   ],
   "source": [
    "\n",
    "import requests\n",

    "from action_mapping import *\n",
    "import random\n",
    "import time\n",

    "# The API endpoint\n",
    "url_post = \"http://127.0.0.1:8888/set-command\"\n",
    "\n",
    "# Define new data to create\n",

    "ALL_KEYS = MOVEMENT_KEYS + ATTACK_KEYS\n",
    "while True:\n",
    "    time.sleep(5)\n",
    "    p1_actions = random.sample(ALL_KEYS, 5)\n",
    "    p2_actions = random.sample(ALL_KEYS, 5)\n",
    "    data = {\n",
    "        \"p1_actions\": p1_actions,\n",
    "        \"p2_actions\": p2_actions\n",
    "    }\n",
    "    post_response = requests.post(url_post, json=data)\n",
    "    # Print the response\n",
    "    post_response_json = post_response.json()\n",
    "    print(post_response_json)\n",
    "\n",
    "\n"

   ]
  }
 ],
 "metadata": {
  "kernelspec": {
   "display_name": "games",
   "language": "python",
   "name": "python3"
  },
  "language_info": {
   "codemirror_mode": {
    "name": "ipython",
    "version": 3
   },
   "file_extension": ".py",
   "mimetype": "text/x-python",
   "name": "python",
   "nbconvert_exporter": "python",
   "pygments_lexer": "ipython3",
   "version": "3.10.0"
  },
  "orig_nbformat": 4
 },
 "nbformat": 4,
 "nbformat_minor": 2
}
